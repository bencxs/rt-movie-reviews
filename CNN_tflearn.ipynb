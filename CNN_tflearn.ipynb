{
 "cells": [
  {
   "cell_type": "code",
   "execution_count": 4,
   "metadata": {
    "collapsed": true
   },
   "outputs": [],
   "source": [
    "from __future__ import division, print_function, absolute_import\n",
    "\n",
    "import tensorflow as tf\n",
    "import tflearn\n",
    "import pickle\n",
    "from tflearn.layers.core import input_data, dropout, fully_connected\n",
    "from tflearn.layers.conv import conv_1d, global_max_pool\n",
    "from tflearn.layers.merge_ops import merge\n",
    "from tflearn.layers.estimator import regression\n",
    "from tflearn.data_utils import to_categorical, pad_sequences\n",
    "from tflearn.datasets import imdb"
   ]
  },
  {
   "cell_type": "code",
   "execution_count": 5,
   "metadata": {
    "collapsed": false
   },
   "outputs": [
    {
     "name": "stdout",
     "output_type": "stream",
     "text": [
      "Files loaded.\n",
      "Size: 10662\n"
     ]
    }
   ],
   "source": [
    "# Load preprocessed datasets\n",
    "with open('preprocess_x_1.pickle', 'rb') as handle:\n",
    "    x_shuffled = pickle.load(handle)\n",
    "\n",
    "with open('preprocess_y_1.pickle', 'rb') as handle:\n",
    "    y_shuffled = pickle.load(handle)\n",
    "\n",
    "print (\"Files loaded.\")\n",
    "print (\"Size: {:d}\".format(len(x_shuffled)))"
   ]
  },
  {
   "cell_type": "code",
   "execution_count": 6,
   "metadata": {
    "collapsed": false
   },
   "outputs": [
    {
     "name": "stdout",
     "output_type": "stream",
     "text": [
      "Train features dimensions: 9595, 56\n",
      "Train labels dimensions: 9595, 2\n",
      "Test features dimensions: 1067, 56\n",
      "Test labels dimensions: 1067, 2\n"
     ]
    }
   ],
   "source": [
    "# Split train/test set\n",
    "from sklearn.model_selection import train_test_split\n",
    "\n",
    "X_train, X_test, y_train, y_test = train_test_split(x_shuffled, y_shuffled, test_size=0.1, random_state=42)\n",
    "\n",
    "print(\"Train features dimensions: {:d}, {:d}\".format(*X_train.shape))\n",
    "print(\"Train labels dimensions: {:d}, {:d}\".format(*y_train.shape))\n",
    "print(\"Test features dimensions: {:d}, {:d}\".format(*X_test.shape))\n",
    "print(\"Test labels dimensions: {:d}, {:d}\".format(*y_test.shape))"
   ]
  },
  {
   "cell_type": "code",
   "execution_count": 7,
   "metadata": {
    "collapsed": false
   },
   "outputs": [
    {
     "name": "stdout",
     "output_type": "stream",
     "text": [
      "Training Step: 1499  | total loss: \u001b[1m\u001b[32m0.02372\u001b[0m\u001b[0m | time: 38.677s\n",
      "| Adam | epoch: 005 | loss: 0.02372 - acc: 0.9952 -- iter: 9568/9595\n",
      "Training Step: 1500  | total loss: \u001b[1m\u001b[32m0.02278\u001b[0m\u001b[0m | time: 47.227s\n",
      "| Adam | epoch: 005 | loss: 0.02278 - acc: 0.9957 | val_loss: 0.74611 - val_acc: 0.7629 -- iter: 9595/9595\n",
      "--\n"
     ]
    }
   ],
   "source": [
    "# Building convolutional network\n",
    "network = input_data(shape=[None, 56], name='input')\n",
    "# Converts all words in vocabulary to lower dimensional representation\n",
    "network = tflearn.embedding(network, input_dim=18758, output_dim=128)\n",
    "branch1 = conv_1d(network, 128, 3, padding='valid', activation='relu', regularizer=\"L2\")\n",
    "branch2 = conv_1d(network, 128, 4, padding='valid', activation='relu', regularizer=\"L2\")\n",
    "branch3 = conv_1d(network, 128, 5, padding='valid', activation='relu', regularizer=\"L2\")\n",
    "network = merge([branch1, branch2, branch3], mode='concat', axis=1)\n",
    "# Change the shape by adding 2 to dimensions\n",
    "network = tf.expand_dims(network, 2)\n",
    "network = global_max_pool(network)\n",
    "network = dropout(network, 0.5)\n",
    "network = fully_connected(network, 2, activation='softmax')\n",
    "network = regression(network, optimizer='adam', learning_rate=0.001,\n",
    "                     loss='categorical_crossentropy', name='target')\n",
    "\n",
    "# Training\n",
    "model = tflearn.DNN(network, tensorboard_verbose=0)\n",
    "model.fit(X_train, y_train, \n",
    "          n_epoch = 5, shuffle=True, \n",
    "          validation_set=(X_test, y_test), \n",
    "          show_metric=True, batch_size=32, \n",
    "          run_id='rt_1')"
   ]
  },
  {
   "cell_type": "code",
   "execution_count": null,
   "metadata": {
    "collapsed": true
   },
   "outputs": [],
   "source": []
  }
 ],
 "metadata": {
  "hide_input": false,
  "kernelspec": {
   "display_name": "Python 2",
   "language": "python",
   "name": "python2"
  },
  "language_info": {
   "codemirror_mode": {
    "name": "ipython",
    "version": 2
   },
   "file_extension": ".py",
   "mimetype": "text/x-python",
   "name": "python",
   "nbconvert_exporter": "python",
   "pygments_lexer": "ipython2",
   "version": "2.7.6"
  }
 },
 "nbformat": 4,
 "nbformat_minor": 1
}
